{
 "cells": [
  {
   "cell_type": "code",
   "execution_count": 1,
   "metadata": {},
   "outputs": [],
   "source": [
    "import numpy as np\n",
    "\n",
    "from sklearn.datasets import load_boston\n",
    "\n",
    "from sklearn.ensemble.iforest import IsolationForest\n",
    "from sklearn.ensemble import RandomForestRegressor\n",
    "from bench_isolation_forest_parallel_predict import ParallelPredIsolationForest"
   ]
  },
  {
   "cell_type": "markdown",
   "metadata": {},
   "source": [
    "In this notebook, we are conducting a very simple experiment to compare the runtimes of the Random Forest Regression, when predicting with parallel jobs, with the proposed PR Isolation Forest with parallel jobs during prediction.\n",
    "\n",
    "Disclaimer: I understand that these algorithms may be not comparable in terms of priciples, but we are only trying to understand the time they both spend during handling parallel predictions in regimes of just **1 sample prediction**.\n",
    "\n",
    "**Methodology**\n",
    "\n",
    "1) We use the boston house-prices dataset.\n",
    "\n",
    "2) We train the RF Regression using the data and the target.\n",
    "\n",
    "3) We train the current single-job prediction Isolation Forest using the data, only.\n",
    "\n",
    "4) We train the proposed parallel-job prediction Isolation Forest using the data, only.\n",
    "\n",
    "5) We repreat it for different number of parallel jobs, and we use timeit to evaluate the runtimes."
   ]
  },
  {
   "cell_type": "code",
   "execution_count": 2,
   "metadata": {},
   "outputs": [
    {
     "data": {
      "text/plain": [
       "(506, 13)"
      ]
     },
     "execution_count": 2,
     "metadata": {},
     "output_type": "execute_result"
    }
   ],
   "source": [
    "X, y = load_boston()['data'], load_boston()['target']\n",
    "X.shape"
   ]
  },
  {
   "cell_type": "code",
   "execution_count": 3,
   "metadata": {},
   "outputs": [],
   "source": [
    "n_jobs = [1, 2, 4, 8, 12]"
   ]
  },
  {
   "cell_type": "markdown",
   "metadata": {},
   "source": [
    "#### Random Forest Regression"
   ]
  },
  {
   "cell_type": "code",
   "execution_count": 4,
   "metadata": {},
   "outputs": [
    {
     "name": "stdout",
     "output_type": "stream",
     "text": [
      "Number of jobs: 1.\n",
      "CPU times: user 5.43 ms, sys: 31 µs, total: 5.46 ms\n",
      "Wall time: 5.46 ms\n",
      "Number of jobs: 2.\n",
      "CPU times: user 12.3 ms, sys: 2.85 ms, total: 15.1 ms\n",
      "Wall time: 102 ms\n",
      "Number of jobs: 4.\n",
      "CPU times: user 13.7 ms, sys: 2.7 ms, total: 16.4 ms\n",
      "Wall time: 102 ms\n",
      "Number of jobs: 8.\n",
      "CPU times: user 15.3 ms, sys: 3.37 ms, total: 18.7 ms\n",
      "Wall time: 107 ms\n",
      "Number of jobs: 12.\n",
      "CPU times: user 14 ms, sys: 2.99 ms, total: 17 ms\n",
      "Wall time: 105 ms\n"
     ]
    }
   ],
   "source": [
    "for n in n_jobs:\n",
    "    print(\"Number of jobs: {}.\".format(n))\n",
    "    rf = RandomForestRegressor(n_estimators=100, n_jobs=n, random_state=123)\n",
    "    rf.fit(X, y)\n",
    "    %time rf.predict(X[0:1])"
   ]
  },
  {
   "cell_type": "markdown",
   "metadata": {},
   "source": [
    "#### Single job Isolation Forest "
   ]
  },
  {
   "cell_type": "code",
   "execution_count": 5,
   "metadata": {},
   "outputs": [
    {
     "name": "stdout",
     "output_type": "stream",
     "text": [
      "Number of jobs: 1.\n",
      "CPU times: user 28.3 ms, sys: 41 µs, total: 28.4 ms\n",
      "Wall time: 28.4 ms\n",
      "Number of jobs: 2.\n",
      "CPU times: user 45.6 ms, sys: 2.93 ms, total: 48.6 ms\n",
      "Wall time: 46.8 ms\n",
      "Number of jobs: 4.\n",
      "CPU times: user 34.8 ms, sys: 17 µs, total: 34.8 ms\n",
      "Wall time: 34.8 ms\n",
      "Number of jobs: 8.\n",
      "CPU times: user 33.8 ms, sys: 28 µs, total: 33.8 ms\n",
      "Wall time: 33.9 ms\n",
      "Number of jobs: 12.\n",
      "CPU times: user 35.2 ms, sys: 163 µs, total: 35.4 ms\n",
      "Wall time: 35.5 ms\n"
     ]
    }
   ],
   "source": [
    "for n in n_jobs:\n",
    "    print(\"Number of jobs: {}.\".format(n))\n",
    "    iforest = IsolationForest(n_estimators=100, n_jobs=n, random_state=123)\n",
    "    iforest.fit(X)\n",
    "    %time iforest.predict(X[0:1])"
   ]
  },
  {
   "cell_type": "markdown",
   "metadata": {},
   "source": [
    "#### Parallel job Isolation Forest "
   ]
  },
  {
   "cell_type": "code",
   "execution_count": 6,
   "metadata": {},
   "outputs": [
    {
     "name": "stdout",
     "output_type": "stream",
     "text": [
      "Number of jobs: 1.\n",
      "CPU times: user 30.4 ms, sys: 50 µs, total: 30.5 ms\n",
      "Wall time: 30.6 ms\n",
      "Number of jobs: 2.\n",
      "CPU times: user 51 ms, sys: 8.43 ms, total: 59.4 ms\n",
      "Wall time: 107 ms\n",
      "Number of jobs: 4.\n",
      "CPU times: user 45.4 ms, sys: 9.31 ms, total: 54.7 ms\n",
      "Wall time: 106 ms\n",
      "Number of jobs: 8.\n",
      "CPU times: user 57.5 ms, sys: 12.8 ms, total: 70.3 ms\n",
      "Wall time: 103 ms\n",
      "Number of jobs: 12.\n",
      "CPU times: user 54.6 ms, sys: 11.5 ms, total: 66.2 ms\n",
      "Wall time: 103 ms\n"
     ]
    }
   ],
   "source": [
    "for n in n_jobs:\n",
    "    print(\"Number of jobs: {}.\".format(n))\n",
    "    iforest = ParallelPredIsolationForest(n_estimators=100, n_jobs=n, random_state=123)\n",
    "    iforest.fit(X)\n",
    "    %time iforest.predict(X[0:1])"
   ]
  },
  {
   "cell_type": "markdown",
   "metadata": {},
   "source": [
    "## Final remarks"
   ]
  },
  {
   "cell_type": "markdown",
   "metadata": {},
   "source": [
    "We can observe that the RF Reg. for 1 thread achieves predict times of around 3 ms. But, when we start increasing the number of threads, the minimum predict call time is 100 ms. With the single-threaded Isolation Forest, in this scenario, the time for 1 sample is around 30 ms. When we use more parallel jobs during predict with Isolation Forest, we also obtain around 100 ms predict time. So, I can conclude that this issue is really not so much Isolation Forest-specific, but is more related with handling the parallel jobs."
   ]
  },
  {
   "cell_type": "code",
   "execution_count": null,
   "metadata": {},
   "outputs": [],
   "source": []
  }
 ],
 "metadata": {
  "kernelspec": {
   "display_name": "Python 3",
   "language": "python",
   "name": "python3"
  },
  "language_info": {
   "codemirror_mode": {
    "name": "ipython",
    "version": 3
   },
   "file_extension": ".py",
   "mimetype": "text/x-python",
   "name": "python",
   "nbconvert_exporter": "python",
   "pygments_lexer": "ipython3",
   "version": "3.6.8"
  }
 },
 "nbformat": 4,
 "nbformat_minor": 2
}
