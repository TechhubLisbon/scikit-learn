{
 "cells": [
  {
   "cell_type": "code",
   "execution_count": 1,
   "metadata": {},
   "outputs": [],
   "source": [
    "import numpy as np\n",
    "import matplotlib.pyplot as plt\n",
    "\n",
    "from sklearn.ensemble import IsolationForest\n",
    "\n",
    "from bench_isolation_forest_parallel_predict import ParallelPredIsolationForest, get_data\n",
    "\n",
    "%load_ext memory_profiler"
   ]
  },
  {
   "cell_type": "markdown",
   "metadata": {},
   "source": [
    "Benchmark ran on a MacBook Pro with the following specs:\n",
    "\n",
    "- MacBook Pro (15-inch, 2018)\n",
    "- Processor: 2,9 GHz Intel Core i9\n",
    "- Memory: 32 GB 2400 MHz DDR4"
   ]
  },
  {
   "cell_type": "markdown",
   "metadata": {},
   "source": [
    "# Benchmark"
   ]
  },
  {
   "cell_type": "markdown",
   "metadata": {},
   "source": [
    "In this notebook, we are studying the impact in memory consumption of running the *predict* method of Isolation Forest, in comparison with the current single-threaded one.\n",
    "\n",
    "**Methodology**\n",
    "- We use memory profile to check how much the call to predict method increases the amount of used memory.\n",
    "- We define a random matrix of 500k samples and 50 features, both for training and test.\n",
    "- First, we measure how much the current single threaded method increases the memory consumption.\n",
    "- Then, we vary the number of parallel jobs in the PR IForest from 1 until 12.\n",
    "- We compute the increment in memory usage as $\\frac{m_n}{m_s}$, where $m_n$ represents the memory usage when using $n \\in \\{1, \\cdots, 12\\}$ parallel jobs, and $m_s$ is the memory usage of the single threaded approach."
   ]
  },
  {
   "cell_type": "code",
   "execution_count": 2,
   "metadata": {},
   "outputs": [],
   "source": [
    "n_samples = 500000\n",
    "X_train, X_test = get_data(n_samples_train=n_samples, n_samples_test=n_samples, \n",
    "                           n_features=50, contamination=0.1, seed=19900603)"
   ]
  },
  {
   "cell_type": "markdown",
   "metadata": {},
   "source": [
    "Current, single threaded approach."
   ]
  },
  {
   "cell_type": "code",
   "execution_count": 3,
   "metadata": {},
   "outputs": [
    {
     "name": "stdout",
     "output_type": "stream",
     "text": [
      "peak memory: 1762.66 MiB, increment: 803.93 MiB\n"
     ]
    }
   ],
   "source": [
    "# Current single threaded\n",
    "iforest = IsolationForest(n_estimators=100, n_jobs=12, random_state=123)\n",
    "iforest.fit(X_train)\n",
    "%memit _ = iforest.predict(X_test)"
   ]
  },
  {
   "cell_type": "markdown",
   "metadata": {},
   "source": [
    "Next, we evaluate the impact of the number of parallel jobs in the current PR."
   ]
  },
  {
   "cell_type": "code",
   "execution_count": 4,
   "metadata": {},
   "outputs": [
    {
     "name": "stdout",
     "output_type": "stream",
     "text": [
      "Number of jobs: 1\n",
      "peak memory: 1672.75 MiB, increment: 561.77 MiB\n",
      "Number of jobs: 2\n",
      "peak memory: 1951.14 MiB, increment: 871.23 MiB\n",
      "Number of jobs: 3\n",
      "peak memory: 2427.90 MiB, increment: 1382.48 MiB\n",
      "Number of jobs: 4\n",
      "peak memory: 2894.32 MiB, increment: 1922.65 MiB\n",
      "Number of jobs: 5\n",
      "peak memory: 3303.13 MiB, increment: 2335.59 MiB\n",
      "Number of jobs: 6\n",
      "peak memory: 3591.34 MiB, increment: 2622.84 MiB\n",
      "Number of jobs: 7\n",
      "peak memory: 4135.90 MiB, increment: 3174.82 MiB\n",
      "Number of jobs: 8\n",
      "peak memory: 4540.88 MiB, increment: 3572.80 MiB\n",
      "Number of jobs: 9\n",
      "peak memory: 4926.68 MiB, increment: 3958.35 MiB\n",
      "Number of jobs: 10\n",
      "peak memory: 5436.60 MiB, increment: 4468.05 MiB\n",
      "Number of jobs: 11\n",
      "peak memory: 5935.91 MiB, increment: 4968.23 MiB\n",
      "Number of jobs: 12\n",
      "peak memory: 6388.95 MiB, increment: 5421.25 MiB\n",
      "CPU times: user 36min 55s, sys: 16min 42s, total: 53min 37s\n",
      "Wall time: 12min 2s\n"
     ]
    }
   ],
   "source": [
    "%%time\n",
    "\n",
    "for n_jobs in np.arange(1, 13):\n",
    "    print('Number of jobs: {}'.format(n_jobs))\n",
    "    iforest = ParallelPredIsolationForest(n_estimators=100, n_jobs=n_jobs, random_state=123)\n",
    "    iforest.fit(X_train)\n",
    "    %memit _ = iforest.predict(X_test)"
   ]
  },
  {
   "cell_type": "code",
   "execution_count": 5,
   "metadata": {},
   "outputs": [],
   "source": [
    "single_threaded = 803.93\n",
    "jobs = np.arange(1, 13)\n",
    "multi_threaded = [561.77, 871.23, 1382.48, 1922.65, 2335.59, 2622.84, \n",
    "                  3174.82, 3572.80, 3958.35, 4468.05, 4968.23, 5421.25]\n",
    "memory_increase = [memory / single_threaded for memory in multi_threaded]"
   ]
  },
  {
   "cell_type": "code",
   "execution_count": 9,
   "metadata": {},
   "outputs": [
    {
     "data": {
      "image/png": "[encoded data removed]",
      "text/plain": [
       "<Figure size 1080x360 with 1 Axes>"
      ]
     },
     "metadata": {
      "needs_background": "light"
     },
     "output_type": "display_data"
    }
   ],
   "source": [
    "plt.figure(figsize=(15, 5))\n",
    "plt.plot(jobs, memory_increase)\n",
    "plt.xlabel('Number of parallel jobs')\n",
    "plt.ylabel('Memory increase')\n",
    "plt.show()"
   ]
  },
  {
   "cell_type": "markdown",
   "metadata": {},
   "source": [
    "### Final remarks "
   ]
  },
  {
   "cell_type": "markdown",
   "metadata": {},
   "source": [
    "From the plot above, we can conclude that running the *predict* function of Isolation Forest using parallel jobs comes with an increase in memory usage that is approximately linear with the number of parallel jobs.\n",
    "\n",
    "However, we also note that for 12 jobs, the increase in memory usage is less than 7 times the increase in memory from calling the *predict* function in the single threaded mode. Therefore, the memory increase of the parallel prediction appears to be a little more than $\\frac{1}{2}$ times the number of parallel jobs."
   ]
  },
  {
   "cell_type": "code",
   "execution_count": null,
   "metadata": {},
   "outputs": [],
   "source": []
  }
 ],
 "metadata": {
  "kernelspec": {
   "display_name": "Python 3",
   "language": "python",
   "name": "python3"
  },
  "language_info": {
   "codemirror_mode": {
    "name": "ipython",
    "version": 3
   },
   "file_extension": ".py",
   "mimetype": "text/x-python",
   "name": "python",
   "nbconvert_exporter": "python",
   "pygments_lexer": "ipython3",
   "version": "3.6.8"
  }
 },
 "nbformat": 4,
 "nbformat_minor": 2
}
